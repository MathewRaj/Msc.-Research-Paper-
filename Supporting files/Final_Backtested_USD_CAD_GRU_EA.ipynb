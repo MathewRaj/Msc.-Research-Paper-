{
  "nbformat": 4,
  "nbformat_minor": 0,
  "metadata": {
    "colab": {
      "name": "Final Backtested USD/CAD GRU EA.ipynb",
      "provenance": [],
      "collapsed_sections": []
    },
    "kernelspec": {
      "display_name": "Python 3",
      "name": "python3"
    },
    "language_info": {
      "name": "python"
    }
  },
  "cells": [
    {
      "cell_type": "code",
      "metadata": {
        "id": "GPNHtb66bfR3"
      },
      "source": [
        "!pip install fxcmpy &> /dev/null\n",
        "!pip install python-socketio==4.4 &> /dev/null\n",
        "!pip install python-engineio==3.9 &> /dev/null\n",
        "!pip install websocket-client==1.1.0 &> /dev/null\n",
        "!pip install ipywidgets &> /dev/null\n",
        "!pip install ta &> /dev/null\n"
      ],
      "execution_count": 1,
      "outputs": []
    },
    {
      "cell_type": "code",
      "metadata": {
        "id": "unrbqOJLb0Su"
      },
      "source": [
        "import pandas as pd\n",
        "import numpy as np\n",
        "import statsmodels.api as sm\n",
        "from math import sqrt\n",
        "from datetime import datetime, timedelta\n",
        "import matplotlib.pyplot as plt\n",
        "from sklearn.preprocessing import MinMaxScaler\n",
        "from pickle import dump\n",
        "import tensorflow as tf\n",
        "\n",
        "from sklearn.preprocessing import LabelEncoder, MinMaxScaler\n",
        "from sklearn.preprocessing import OneHotEncoder\n",
        "from sklearn.metrics import mean_squared_error\n",
        "from tensorflow.keras.models import Sequential\n",
        "from tensorflow.keras.layers import Dense, Dropout, Bidirectional\n",
        "from tensorflow.keras.layers import BatchNormalization, Embedding, TimeDistributed, LeakyReLU\n",
        "from tensorflow.keras.layers import GRU, LSTM\n",
        "from tensorflow.keras.optimizers import Adam\n",
        "from matplotlib import pyplot\n",
        "from pickle import load\n",
        "from keras import callbacks\n",
        "\n",
        "from ta.volatility import BollingerBands\n",
        "from ta.momentum import stochrsi\n",
        "from ta.utils import dropna\n",
        "\n",
        "import fxcmpy\n",
        "import socketio\n",
        "import tensorflow as tf\n",
        "import time\n",
        "\n",
        "from matplotlib import pyplot as plt\n",
        "import seaborn as sns"
      ],
      "execution_count": 14,
      "outputs": []
    },
    {
      "cell_type": "code",
      "metadata": {
        "id": "ScYNq652cJOO"
      },
      "source": [
        "def set_connection():\n",
        "  \"\"\"\n",
        "  Set Connection function is for setting up our connection with the FXCM websocket.\n",
        "  \"\"\"\n",
        "  TOKEN = 'c5dfc9467520b685d9da5970bedc8aece8384c61'\n",
        "  con = fxcmpy.fxcmpy(access_token=TOKEN, log_level='error', server='demo', log_file='log.txt')\n",
        "  return con"
      ],
      "execution_count": 15,
      "outputs": []
    },
    {
      "cell_type": "code",
      "metadata": {
        "id": "xtMXGw7pceB2"
      },
      "source": [
        "def set_Model(model_file = 'GRU_Trained (10k).h5'):\n",
        "  \"\"\"\n",
        "  Selecting the weight files for GRU model being used in the ensemble.\n",
        "  \"\"\"\n",
        "  G_model = tf.keras.models.load_model(model_file)\n",
        "  return G_model\n"
      ],
      "execution_count": 16,
      "outputs": []
    },
    {
      "cell_type": "code",
      "metadata": {
        "id": "ivLIuBMoboI2"
      },
      "source": [
        "def get_Data(con):\n",
        "  \"\"\"\n",
        "   Retrieving data based using the connection setup.\n",
        "  \"\"\"\n",
        "  data = con.get_candles('USD/CAD', period='m1', number=199)\n",
        "  df = pd.DataFrame()\n",
        "  df['high'] = data['askhigh']\n",
        "  df['low'] = data['asklow']\n",
        "  df['open'] = data['askopen']\n",
        "  df['close'] = data['askclose']\n",
        "  return df"
      ],
      "execution_count": 17,
      "outputs": []
    },
    {
      "cell_type": "code",
      "metadata": {
        "id": "A2HCNs67cT5W"
      },
      "source": [
        "def ta(df):\n",
        "  \"\"\"\n",
        "  Performing technical analysis on the data. Returns a dataframe appended \n",
        "  with indicator values for Bollinger bands and RSI.\n",
        "  \"\"\"\n",
        "  indicator_bb = BollingerBands(close=df[\"close\"], window=20, window_dev=2)\n",
        "  df['bb_bbm'] = indicator_bb.bollinger_mavg()\n",
        "  df['bb_bbh'] = indicator_bb.bollinger_hband()\n",
        "  df['bb_bbl'] = indicator_bb.bollinger_lband()\n",
        "  df['bb_bbhi'] = indicator_bb.bollinger_hband_indicator()\n",
        "  df['Stoch RSI'] = stochrsi(df['close'], window = 14)\n",
        "  return df  "
      ],
      "execution_count": 18,
      "outputs": []
    },
    {
      "cell_type": "code",
      "metadata": {
        "id": "gOyBs4O1Q0g0"
      },
      "source": [
        "def preprocess_data(df_gru):\n",
        "  \"\"\"\n",
        "  Preprocessing the dataframe into a numpy array. \n",
        "  \"\"\"\n",
        "  #df_gru = get_Data(con)\n",
        "  dataset=df_gru.iloc[:-1,:]\n",
        "  x = dataset.to_numpy()\n",
        "  x = np.reshape(x, (496632,3,4))\n",
        "  return x\n"
      ],
      "execution_count": 19,
      "outputs": []
    },
    {
      "cell_type": "code",
      "metadata": {
        "id": "78FwOOibcZ1m"
      },
      "source": [
        "def gru(x, model):\n",
        "  \"\"\"\n",
        "  Predicting results based on GRU model. Returns difference between current price\n",
        "  at current time instance t and future price predicted at time instance t+1.\n",
        "  \"\"\"\n",
        "  res = model.predict(x)\n",
        "  return x\n"
      ],
      "execution_count": 20,
      "outputs": []
    },
    {
      "cell_type": "code",
      "metadata": {
        "id": "6uzuzJYaYun3"
      },
      "source": [
        "def ta_short_sig(df):\n",
        "  \"\"\"\n",
        "  Based on the TA indicator values Short Signal from each indicator is calculated.\n",
        "  \"\"\"\n",
        "  RSI_Short_Sig = []\n",
        "  BB_Short_Sig = []\n",
        "  for i in range(len(list(df['Stoch RSI']))):\n",
        "    if list(df['Stoch RSI'])[i] > 0.7:\n",
        "      RSI_Short_Sig.append(int(1))\n",
        "    else:\n",
        "      RSI_Short_Sig.append(int(0))\n",
        "    \n",
        "    if list(df['close'] -  df['bb_bbh'])[0] > 0:\n",
        "      BB_Short_Sig.append(int(1))\n",
        "    else:\n",
        "      BB_Short_Sig.append(int(0))\n",
        "\n",
        "  df['RSI Short Signal'] = RSI_Short_Sig\n",
        "  df['BB Short Signal'] = BB_Short_Sig\n",
        "  new_df = df[['close','RSI Short Signal','BB Short Signal']]\n",
        "  return new_df\n"
      ],
      "execution_count": 21,
      "outputs": []
    },
    {
      "cell_type": "code",
      "metadata": {
        "id": "ZagzN4LkbXSB"
      },
      "source": [
        "def ta_long_sig(df):\n",
        "  \"\"\"\n",
        "  Based on the TA indicator values Long Signal from each indicator is calculated.\n",
        "  \"\"\"\n",
        "  RSI_Long_Sig = []\n",
        "  BB_Long_Sig = []\n",
        "  for i in range(len(list(df['Stoch RSI']))):\n",
        "    if list(df['Stoch RSI'])[i] < 0.3:\n",
        "      RSI_Long_Sig.append(int(1))\n",
        "    else:\n",
        "      RSI_Long_Sig.append(int(0))\n",
        "    \n",
        "    if list(df['bb_bbl'] - df['close'])[0] > 0:\n",
        "      BB_Long_Sig.append(int(1))\n",
        "    else:\n",
        "      BB_Long_Sig.append(int(0))\n",
        "\n",
        "  df['RSI Long Signal'] = RSI_Long_Sig\n",
        "  df['BB Long Signal'] = BB_Long_Sig\n",
        "  new_df = df[['close','RSI Long Signal','BB Long Signal']]\n",
        "  return new_df\n"
      ],
      "execution_count": 22,
      "outputs": []
    },
    {
      "cell_type": "code",
      "metadata": {
        "id": "fY3t0PJbZCb5"
      },
      "source": [
        "def final_sig(con):\n",
        "  \"\"\"\n",
        "  Generating final signals for Long and Short positions.\n",
        "  \"\"\"\n",
        "  pos1, RSI_Short_Sig, BB_Short_Sig = ta_short_sig(ta(get_Data(con))).iloc[-1][0], ta_short_sig(ta(get_Data(con))).iloc[-1][1], ta_short_sig(ta(get_Data(con))).iloc[-1][2]\n",
        "  pos2, RSI_Long_Sig, BB_Long_Sig = ta_long_sig(ta(get_Data(con))).iloc[-1][0], ta_short_sig(ta(get_Data(con))).iloc[-1][1], ta_short_sig(ta(get_Data(con))).iloc[-1][2]\n",
        "  return pos1, RSI_Short_Sig, BB_Short_Sig, pos2, RSI_Long_Sig, BB_Long_Sig"
      ],
      "execution_count": 23,
      "outputs": []
    },
    {
      "cell_type": "code",
      "metadata": {
        "id": "oFN26hE5TIvE"
      },
      "source": [
        "model = set_Model()"
      ],
      "execution_count": 24,
      "outputs": []
    },
    {
      "cell_type": "code",
      "metadata": {
        "id": "J2uTm01E-uHq"
      },
      "source": [
        "df = pd.read_csv(\"USDCAD5.csv\", names=[\"date\",\"time\",\"open\",\"high\",\"low\",\"close\",\"not\"])\n",
        "df = df[[\"open\",\"high\",\"low\",\"close\"]]\n",
        "df = df.iloc[5000:10001]"
      ],
      "execution_count": 25,
      "outputs": []
    },
    {
      "cell_type": "code",
      "metadata": {
        "id": "67qqn3flK4ai"
      },
      "source": [
        "#df = pd.read_csv(\"DAT_MT_EURUSD_M1_2019.csv\", names=[\"date\",\"time\",\"open\",\"high\",\"low\",\"close\",\"not\"])\n",
        "#df = df[[\"open\",\"high\",\"low\",\"close\"]]\n",
        "#df = df.iloc[5000:10001]"
      ],
      "execution_count": 26,
      "outputs": []
    },
    {
      "cell_type": "code",
      "metadata": {
        "colab": {
          "base_uri": "https://localhost:8080/"
        },
        "id": "GPZAtL-HLZRA",
        "outputId": "40c210e8-cb1a-40e7-cd72-daa52f73fcf6"
      },
      "source": [
        "\n",
        "x = df.to_numpy()\n",
        "x = np.reshape(x, (1667,3,4))\n",
        "x.shape[0]"
      ],
      "execution_count": 27,
      "outputs": [
        {
          "output_type": "execute_result",
          "data": {
            "text/plain": [
              "1667"
            ]
          },
          "metadata": {},
          "execution_count": 27
        }
      ]
    },
    {
      "cell_type": "code",
      "metadata": {
        "id": "m13dRPNVQDot"
      },
      "source": [
        "m = gru(x, model)"
      ],
      "execution_count": 28,
      "outputs": []
    },
    {
      "cell_type": "code",
      "metadata": {
        "id": "22TDY4BvQbzh"
      },
      "source": [
        "m = np.reshape(m, (5001,4))"
      ],
      "execution_count": 29,
      "outputs": []
    },
    {
      "cell_type": "code",
      "metadata": {
        "id": "XP8vuMheSmE0"
      },
      "source": [
        "gru_list = []\n",
        "for i in range(len(m)):\n",
        "  gru_list.append(m[i][0])"
      ],
      "execution_count": 30,
      "outputs": []
    },
    {
      "cell_type": "code",
      "metadata": {
        "id": "s5MB5pdoLTUd"
      },
      "source": [
        "n = ta(df)"
      ],
      "execution_count": 31,
      "outputs": []
    },
    {
      "cell_type": "code",
      "metadata": {
        "id": "HzRdDJKeQ0j3"
      },
      "source": [
        "n['gru'] = gru_list"
      ],
      "execution_count": 32,
      "outputs": []
    },
    {
      "cell_type": "code",
      "metadata": {
        "id": "FS8U1PO6S5m-"
      },
      "source": [
        "n.dropna(inplace =True)"
      ],
      "execution_count": 33,
      "outputs": []
    },
    {
      "cell_type": "code",
      "metadata": {
        "id": "L4xf9rKIQP_4"
      },
      "source": [
        "ta_long = ta_long_sig(n)\n",
        "ta_short = ta_short_sig(n)"
      ],
      "execution_count": 34,
      "outputs": []
    },
    {
      "cell_type": "code",
      "metadata": {
        "colab": {
          "base_uri": "https://localhost:8080/"
        },
        "id": "QxtibrQdwg4x",
        "outputId": "419406ef-3bb5-4183-9f6e-18f0c0b1e7ee"
      },
      "source": [
        "ta_long['bb'] = n['close'] - n['bb_bbl']\n",
        "ta_short['bb'] = n['bb_bbh'] - n['close']"
      ],
      "execution_count": 35,
      "outputs": [
        {
          "output_type": "stream",
          "name": "stderr",
          "text": [
            "/usr/local/lib/python3.7/dist-packages/ipykernel_launcher.py:1: SettingWithCopyWarning: \n",
            "A value is trying to be set on a copy of a slice from a DataFrame.\n",
            "Try using .loc[row_indexer,col_indexer] = value instead\n",
            "\n",
            "See the caveats in the documentation: https://pandas.pydata.org/pandas-docs/stable/user_guide/indexing.html#returning-a-view-versus-a-copy\n",
            "  \"\"\"Entry point for launching an IPython kernel.\n",
            "/usr/local/lib/python3.7/dist-packages/ipykernel_launcher.py:2: SettingWithCopyWarning: \n",
            "A value is trying to be set on a copy of a slice from a DataFrame.\n",
            "Try using .loc[row_indexer,col_indexer] = value instead\n",
            "\n",
            "See the caveats in the documentation: https://pandas.pydata.org/pandas-docs/stable/user_guide/indexing.html#returning-a-view-versus-a-copy\n",
            "  \n"
          ]
        }
      ]
    },
    {
      "cell_type": "code",
      "metadata": {
        "id": "_iyoSLuZUipn",
        "colab": {
          "base_uri": "https://localhost:8080/"
        },
        "outputId": "6ed937db-64c7-4c93-f6cc-61796150b0c4"
      },
      "source": [
        "for i in range(len(ta_long)):\n",
        "  ta_long['gru'] = ta_long['close'] - n['gru']\n",
        "  ta_short['gru'] = ta_short['close'] - n['gru']\n"
      ],
      "execution_count": 36,
      "outputs": [
        {
          "output_type": "stream",
          "name": "stderr",
          "text": [
            "/usr/local/lib/python3.7/dist-packages/ipykernel_launcher.py:2: SettingWithCopyWarning: \n",
            "A value is trying to be set on a copy of a slice from a DataFrame.\n",
            "Try using .loc[row_indexer,col_indexer] = value instead\n",
            "\n",
            "See the caveats in the documentation: https://pandas.pydata.org/pandas-docs/stable/user_guide/indexing.html#returning-a-view-versus-a-copy\n",
            "  \n",
            "/usr/local/lib/python3.7/dist-packages/ipykernel_launcher.py:3: SettingWithCopyWarning: \n",
            "A value is trying to be set on a copy of a slice from a DataFrame.\n",
            "Try using .loc[row_indexer,col_indexer] = value instead\n",
            "\n",
            "See the caveats in the documentation: https://pandas.pydata.org/pandas-docs/stable/user_guide/indexing.html#returning-a-view-versus-a-copy\n",
            "  This is separate from the ipykernel package so we can avoid doing imports until\n"
          ]
        }
      ]
    },
    {
      "cell_type": "code",
      "metadata": {
        "id": "-5kaewdHWCFr",
        "colab": {
          "base_uri": "https://localhost:8080/"
        },
        "outputId": "9612ebaa-b5cb-4968-aa59-afa7d4ef2747"
      },
      "source": [
        "#With GRU\n",
        "open = 0\n",
        "long_profit = 0\n",
        "long_loss = 0\n",
        "net_long = []\n",
        "for i in range(len(ta_long)):\n",
        "  if open == 0:\n",
        "    if list(ta_long['RSI Long Signal'])[i] == 1 and list(ta_long['bb'])[i] < 0 and list(ta_long['gru'])[i] <= 0:\n",
        "      open = 1\n",
        "      purchase = list(ta_long['close'])[i]\n",
        "  if open == 1:\n",
        "    if list(ta_long['close'])[i] - purchase < 0:\n",
        "      net_long.append(list(ta_long['close'])[i] - purchase)\n",
        "      long_profit += 1\n",
        "      open = 0\n",
        "    if list(ta_long['close'])[i] - purchase > 0:\n",
        "      net_long.append(list(ta_long['close'])[i] - purchase)\n",
        "      long_loss += 1\n",
        "      open = 0\n",
        "\n",
        "print(long_profit,long_loss)\n",
        "print(long_profit/(long_profit+long_loss))\n",
        "print(sum(net_long))"
      ],
      "execution_count": 37,
      "outputs": [
        {
          "output_type": "stream",
          "name": "stdout",
          "text": [
            "89 110\n",
            "0.4472361809045226\n",
            "0.0052300000000014\n"
          ]
        }
      ]
    },
    {
      "cell_type": "code",
      "metadata": {
        "colab": {
          "base_uri": "https://localhost:8080/",
          "height": 265
        },
        "id": "TQ5BI8IoCvbp",
        "outputId": "86f2d27e-6c87-4119-9c7e-91e4da8d2485"
      },
      "source": [
        "plt.plot(net_long)\n",
        "plt.show()"
      ],
      "execution_count": 38,
      "outputs": [
        {
          "output_type": "display_data",
          "data": {
            "image/png": "[encoded data removed]",
            "text/plain": [
              "<Figure size 432x288 with 1 Axes>"
            ]
          },
          "metadata": {
            "needs_background": "light"
          }
        }
      ]
    },
    {
      "cell_type": "code",
      "metadata": {
        "id": "1dr3zoRdXkqx",
        "colab": {
          "base_uri": "https://localhost:8080/"
        },
        "outputId": "cf852369-ce4f-4867-9b4f-b29d21277577"
      },
      "source": [
        "#With GRU\n",
        "open = 0\n",
        "short_profit = 0\n",
        "short_loss = 0\n",
        "net_short = []\n",
        "for i in range(len(ta_short)):\n",
        "  if open == 0:\n",
        "    if list(ta_short['RSI Short Signal'])[i] == 1 and list(ta_short['bb'])[i] > 0 and list(ta_short['gru'])[i] > 0:\n",
        "      open = 1\n",
        "      purchase = list(ta_short['close'])[i]\n",
        "  if open == 1:\n",
        "    if list(ta_short['close'])[i] - purchase < 0:\n",
        "      net_short.append(list(ta_short['close'])[i] - purchase)\n",
        "      short_profit += 1\n",
        "      open = 0\n",
        "    if list(ta_short['close'])[i] - purchase > 0:\n",
        "      net_short.append(list(ta_short['close'])[i] - purchase\n",
        "      short_loss += 1\n",
        "      open = 0\n",
        "\n",
        "\n",
        "print(short_profit,short_loss)\n",
        "print(short_profit/(short_profit+short_loss))\n",
        "print(sum(net_short))"
      ],
      "execution_count": 39,
      "outputs": [
        {
          "output_type": "stream",
          "name": "stdout",
          "text": [
            "348 318\n",
            "0.5225225225225225\n",
            "0.003959999999997521\n"
          ]
        }
      ]
    },
    {
      "cell_type": "code",
      "metadata": {
        "colab": {
          "base_uri": "https://localhost:8080/",
          "height": 265
        },
        "id": "PYag1EPzDWe4",
        "outputId": "90872a3e-c2e0-4ee8-8f70-2909ea902508"
      },
      "source": [
        "plt.plot(net_short)\n",
        "plt.show()"
      ],
      "execution_count": 40,
      "outputs": [
        {
          "output_type": "display_data",
          "data": {
            "image/png": "[encoded data removed]",
            "text/plain": [
              "<Figure size 432x288 with 1 Axes>"
            ]
          },
          "metadata": {
            "needs_background": "light"
          }
        }
      ]
    },
    {
      "cell_type": "code",
      "metadata": {
        "colab": {
          "base_uri": "https://localhost:8080/"
        },
        "id": "0_Ifh3PEm74a",
        "outputId": "6e282aeb-e7c1-42bf-9c23-ae3c8916b36b"
      },
      "source": [
        "#Without GRU\n",
        "open = 0\n",
        "long_profit = 0\n",
        "long_loss = 0\n",
        "net_long = []\n",
        "for i in range(len(ta_long)):\n",
        "  if open == 0:\n",
        "    if list(ta_long['RSI Long Signal'])[i] == 1 and list(ta_long['bb'])[i] < 0:\n",
        "      open = 1\n",
        "      purchase = list(ta_long['close'])[i]\n",
        "  if open == 1:\n",
        "    if list(ta_long['close'])[i] - purchase < 0:\n",
        "      net_long.append(list(ta_long['close'])[i] - purchase)\n",
        "      long_profit += 1\n",
        "      open = 0\n",
        "    if list(ta_long['close'])[i] - purchase > 0:\n",
        "      net_long.append(list(ta_long['close'])[i] - purchase)\n",
        "      long_loss += 1\n",
        "      open = 0\n",
        "\n",
        "print('win/loss=',long_profit,long_loss)\n",
        "print('winrate=',long_profit/(long_profit+long_loss))\n",
        "print(sum(net_long))"
      ],
      "execution_count": 47,
      "outputs": [
        {
          "output_type": "stream",
          "name": "stdout",
          "text": [
            "win/loss= 89 112\n",
            "winrate= 0.4427860696517413\n",
            "0.005910000000001636\n"
          ]
        }
      ]
    },
    {
      "cell_type": "code",
      "metadata": {
        "colab": {
          "base_uri": "https://localhost:8080/",
          "height": 265
        },
        "id": "VaMVqM9aDQU1",
        "outputId": "282f35f9-0583-43d0-d31c-87dc2ab785cc"
      },
      "source": [
        "plt.plot(net_long)\n",
        "plt.show()"
      ],
      "execution_count": 42,
      "outputs": [
        {
          "output_type": "display_data",
          "data": {
            "image/png": "[encoded data removed]",
            "text/plain": [
              "<Figure size 432x288 with 1 Axes>"
            ]
          },
          "metadata": {
            "needs_background": "light"
          }
        }
      ]
    },
    {
      "cell_type": "code",
      "metadata": {
        "colab": {
          "base_uri": "https://localhost:8080/"
        },
        "id": "_q08mv1x-TMN",
        "outputId": "05372781-b126-48ec-e1a4-b0081535fd35"
      },
      "source": [
        "#Without GRU\n",
        "open = 0\n",
        "short_profit = 0\n",
        "short_loss = 0\n",
        "net_short = []\n",
        "for i in range(len(ta_short)):\n",
        "  if open == 0:\n",
        "    if list(ta_short['RSI Short Signal'])[i] == 1 and list(ta_short['bb'])[i] > 0 and list(ta_short['gru'])[i] > 0:\n",
        "      open = 1\n",
        "      purchase = list(ta_short['close'])[i]\n",
        "  if open == 1:\n",
        "    if list(ta_short['close'])[i] - purchase < 0:\n",
        "      net_short.append(list(ta_short['close'])[i] - purchase)\n",
        "      short_profit += 1\n",
        "      open = 0\n",
        "    if list(ta_short['close'])[i] - purchase > 0:\n",
        "      net_short.append(list(ta_short['close'])[i] - purchase)\n",
        "      short_loss += 1\n",
        "      open = 0\n",
        "\n",
        "\n",
        "print(short_profit,short_loss)\n",
        "print(short_profit/(short_profit+short_loss))\n",
        "print(sum(net_short))"
      ],
      "execution_count": 43,
      "outputs": [
        {
          "output_type": "stream",
          "name": "stdout",
          "text": [
            "348 318\n",
            "0.5225225225225225\n",
            "0.003959999999997521\n"
          ]
        }
      ]
    },
    {
      "cell_type": "code",
      "metadata": {
        "colab": {
          "base_uri": "https://localhost:8080/",
          "height": 265
        },
        "id": "ruf8glgoB39i",
        "outputId": "668da238-91cc-4abc-fcb9-9836866eb60e"
      },
      "source": [
        "plt.plot(net_short)\n",
        "plt.show()"
      ],
      "execution_count": 44,
      "outputs": [
        {
          "output_type": "display_data",
          "data": {
            "image/png": "[encoded data removed]",
            "text/plain": [
              "<Figure size 432x288 with 1 Axes>"
            ]
          },
          "metadata": {
            "needs_background": "light"
          }
        }
      ]
    }
  ]
}